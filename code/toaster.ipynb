{
 "cells": [
  {
   "cell_type": "code",
   "execution_count": 1,
   "metadata": {},
   "outputs": [],
   "source": [
    "# Importing the required packages/libraries\n",
    "\n",
    "import torch\n",
    "import torch.nn as nn\n",
    "import torch.nn.functional as F\n",
    "\n",
    "import matplotlib.pyplot as plt\n",
    "import numpy as np\n",
    "import time\n",
    "\n",
    "from sklearn import metrics as skmetrics\n",
    "\n",
    "# Fixing the ramdom seeds for reproducibility\n",
    "\n",
    "torch.manual_seed(0)\n",
    "np.random.seed(0)"
   ]
  },
  {
   "cell_type": "markdown",
   "metadata": {},
   "source": [
    "# Building and Training the model\n",
    "\n",
    "The following code blocks build, train, and evaluate the ML model."
   ]
  },
  {
   "cell_type": "code",
   "execution_count": 2,
   "metadata": {},
   "outputs": [],
   "source": [
    "# This code block defines the ML model architecture\n",
    "\n",
    "class neural_network_model(nn.Module):\n",
    "    \n",
    "    def __init__(self, tensor_len, num_classes):\n",
    "        \n",
    "        super(neural_network_model, self).__init__()\n",
    "        # Change these numbers to modify number of hidden neurons in each layer\n",
    "        self.n_nodes_hl1 = 500\n",
    "        self.n_nodes_hl2 = 500\n",
    "        self.n_nodes_hl3 = 500\n",
    "        \n",
    "        self.tensor_len = tensor_len\n",
    "        self.num_classes = num_classes\n",
    "        \n",
    "        self.hidden_1_layer = nn.Linear(self.tensor_len, self.n_nodes_hl1)\n",
    "        nn.init.normal_(self.hidden_1_layer.weight)\n",
    "        nn.init.normal_(self.hidden_1_layer.bias)\n",
    "        \n",
    "        self.hidden_2_layer = nn.Linear(self.n_nodes_hl1, self.n_nodes_hl2)\n",
    "        nn.init.normal_(self.hidden_2_layer.weight)\n",
    "        nn.init.normal_(self.hidden_2_layer.bias)\n",
    "        \n",
    "        self.hidden_3_layer = nn.Linear(self.n_nodes_hl2, self.n_nodes_hl3)\n",
    "        nn.init.normal_(self.hidden_3_layer.weight)\n",
    "        nn.init.normal_(self.hidden_3_layer.bias)\n",
    "        \n",
    "        self.output_layer = nn.Linear(self.n_nodes_hl3, self.num_classes)\n",
    "        nn.init.normal_(self.output_layer.weight)\n",
    "        nn.init.normal_(self.output_layer.bias)\n",
    "        \n",
    "    def forward(self, data):\n",
    "        \n",
    "        data = torch.Tensor(data)\n",
    "        l1 = F.relu(self.hidden_1_layer(data))\n",
    "        l2 = F.relu(self.hidden_2_layer(l1))\n",
    "        l3 = F.relu(self.hidden_3_layer(l2))\n",
    "        \n",
    "        output = self.output_layer(l3)\n",
    "        \n",
    "        return output"
   ]
  },
  {
   "cell_type": "code",
   "execution_count": 3,
   "metadata": {},
   "outputs": [],
   "source": [
    "# This code block has the loss function and the function to train the neural network\n",
    "\n",
    "def loss_fn(logits, target):\n",
    "    \n",
    "    target = torch.Tensor(target)\n",
    "    \n",
    "    loss = torch.sum(- target * F.log_softmax(logits, -1), -1)\n",
    "    mean_loss = loss.mean()\n",
    "    \n",
    "    return mean_loss\n",
    "\n",
    "def train_nn(train_x, train_y, test_x, test_y, num_classes=2, tensor_len=53, bat_size=100, num_epochs=10):\n",
    "    \n",
    "    model = neural_network_model(tensor_len, num_classes)\n",
    "    \n",
    "    optimizer = torch.optim.Adam(model.parameters(), lr=0.001)\n",
    "    \n",
    "    train_losses = np.zeros(num_epochs)\n",
    "    test_losses = np.zeros(num_epochs)\n",
    "    \n",
    "    for it in range(num_epochs):\n",
    "        \n",
    "        epoch_loss = 0\n",
    "        i = 0\n",
    "        while i < len(train_x):\n",
    "            \n",
    "            start = i\n",
    "            end = i + bat_size\n",
    "            batch_x = np.array(train_x[start:end])\n",
    "            batch_y = np.array(train_y[start:end])\n",
    "\n",
    "            outputs = model(batch_x)\n",
    "            loss = loss_fn(outputs, batch_y)\n",
    "            epoch_loss += loss.item()\n",
    "            i += bat_size\n",
    "            \n",
    "            optimizer.zero_grad()\n",
    "            loss.backward()\n",
    "            optimizer.step()\n",
    "            \n",
    "        \n",
    "        outputs_test = model(test_x)\n",
    "        loss_test = loss_fn(outputs_test, test_y)\n",
    "        \n",
    "        train_losses[it] = epoch_loss\n",
    "        test_losses[it] = loss_test.item()\n",
    "        \n",
    "        print(f'In this epoch {it+1}/{num_epochs}, Training loss: {train_losses[it]:.4f}, Test loss: {test_losses[it]:.4f}')\n",
    "    \n",
    "    return model"
   ]
  },
  {
   "cell_type": "code",
   "execution_count": 4,
   "metadata": {},
   "outputs": [],
   "source": [
    "def run(tensor_length, bat_size, num_epochs):\n",
    "    num_classes = 2\n",
    "    print(\"\\n\\nTraining and Testing Neural Network\")\n",
    "\n",
    "    # Load the training and test sets\n",
    "    # Change the path according to wherever the .npy files are stored\n",
    "    train_x = np.load('/home/abhijit/Downloads/Main_Python_Scripts_Used/neural_networks/toaster/train_x_toaster.npy')\n",
    "    train_y = np.load('/home/abhijit/Downloads/Main_Python_Scripts_Used/neural_networks/toaster/train_y_toaster.npy')\n",
    "    test_x = np.load('/home/abhijit/Downloads/Main_Python_Scripts_Used/neural_networks/toaster/test_x_toaster.npy')\n",
    "    test_y = np.load('/home/abhijit/Downloads/Main_Python_Scripts_Used/neural_networks/toaster/test_y_toaster.npy')\n",
    "    \n",
    "    print(\"Test_x shape is\", np.array(test_x).shape)\n",
    "    model = train_nn(train_x, train_y, test_x, test_y, num_classes, tensor_length, bat_size, num_epochs)\n",
    "    return model"
   ]
  },
  {
   "cell_type": "code",
   "execution_count": 5,
   "metadata": {},
   "outputs": [],
   "source": [
    "# This code block has the function to generate adversarial examples (refer the paper for the algorithm)\n",
    "\n",
    "def make_adversarial_attack(X, target_y, model):    \n",
    "    \n",
    "    # Use model in evaluation mode\n",
    "    model.eval()\n",
    "    \n",
    "    # Initialize the adversarial datapoint with the true datapoint\n",
    "    X_fooling = torch.Tensor(X).clone().detach()\n",
    "    X_fooling.requires_grad = True\n",
    "\n",
    "    # Can change the learning rate and max_iter according to preferences\n",
    "    learning_rate = 35    \n",
    "    max_iter = 1000\n",
    "    \n",
    "    # Loop for gradient ascent\n",
    "    for i in range(max_iter):\n",
    "        \n",
    "        # Getting the score\n",
    "        score = model(X_fooling)\n",
    "        \n",
    "        # Breaking from the loop if fooling is successful\n",
    "        y_value, current_label = score.data.max(dim=1)        \n",
    "        \n",
    "        if current_label == target_y:            \n",
    "            break\n",
    "            \n",
    "        # Extract score for target class\n",
    "        score_target = score[0, target_y]\n",
    "        # Perform backprop on score for target class\n",
    "        score_target.backward()        \n",
    "        \n",
    "        # Get gradient of adversarial datapoint\n",
    "        dx = X_fooling.grad.data\n",
    "        \n",
    "        # Normalizing the gradient\n",
    "        dx = learning_rate * (dx / torch.norm(dx))\n",
    "        \n",
    "        # Updating the adversarial datapoint\n",
    "        X_fooling.data += dx\n",
    "        \n",
    "        # Clear the gradients at the end of the iteration\n",
    "        X_fooling.grad.zero_()        \n",
    "    \n",
    "    X_fooling = X_fooling.detach()\n",
    "    \n",
    "    return X_fooling"
   ]
  },
  {
   "cell_type": "code",
   "execution_count": 6,
   "metadata": {},
   "outputs": [
    {
     "name": "stdout",
     "output_type": "stream",
     "text": [
      "toaster\n",
      "\n",
      "\n",
      "Training and Testing Neural Network\n",
      "Test_x shape is (1000, 53)\n",
      "In this epoch 1/10, Training loss: 628379702.3906, Test loss: 867786.5000\n",
      "In this epoch 2/10, Training loss: 144655926.3477, Test loss: 673432.3125\n",
      "In this epoch 3/10, Training loss: 135765107.4648, Test loss: 250536.6719\n",
      "In this epoch 4/10, Training loss: 100200678.5977, Test loss: 195379.7031\n",
      "In this epoch 5/10, Training loss: 91297994.3301, Test loss: 449958.8750\n",
      "In this epoch 6/10, Training loss: 90757649.4199, Test loss: 169131.2812\n",
      "In this epoch 7/10, Training loss: 78154861.1133, Test loss: 119741.5312\n",
      "In this epoch 8/10, Training loss: 79142101.9082, Test loss: 397731.1562\n",
      "In this epoch 9/10, Training loss: 80004017.0664, Test loss: 185970.7812\n",
      "In this epoch 10/10, Training loss: 77984842.7021, Test loss: 284553.1562\n",
      "validation accuracy: 0.817\n",
      "Precision 0.736214605067064\n",
      "Recall 0.988\n",
      "f1_score 0.8437233134073442\n",
      "confusion_matrix\n",
      "[[323 177]\n",
      " [  6 494]]\n",
      "--- 39.485167264938354 seconds ---\n"
     ]
    }
   ],
   "source": [
    "# This block can be considered the \"main function\"\n",
    "# The model is trained and evaluated\n",
    "\n",
    "start_time = time.time()\n",
    "\n",
    "n_classes = 2\n",
    "tensor_length=53\n",
    "\n",
    "batch_size = 100\n",
    "hm_epochs = 10\n",
    "\n",
    "print(\"toaster\")\n",
    "\n",
    "# The variable \"model\" will have the trained model\n",
    "model = run(tensor_length, batch_size, hm_epochs)\n",
    "\n",
    "# Loading the training and test data sets in this block (the previous call was inside a function)\n",
    "# Change the path according to wherever the .npy files are stored\n",
    "train_x = np.load('/home/abhijit/Downloads/Main_Python_Scripts_Used/neural_networks/toaster/train_x_toaster.npy')\n",
    "train_y = np.load('/home/abhijit/Downloads/Main_Python_Scripts_Used/neural_networks/toaster/train_y_toaster.npy')\n",
    "test_x = np.load('/home/abhijit/Downloads/Main_Python_Scripts_Used/neural_networks/toaster/test_x_toaster.npy')\n",
    "test_y = np.load('/home/abhijit/Downloads/Main_Python_Scripts_Used/neural_networks/toaster/test_y_toaster.npy')\n",
    "\n",
    "# Evaluating the trained model on the test set\n",
    "with torch.no_grad():\n",
    "\n",
    "    prediction = model(test_x)\n",
    "    y_pred = np.argmax(prediction.numpy(), 1)\n",
    "    y_true = np.argmax(test_y, 1)\n",
    "\n",
    "    val_correct = np.equal(y_pred, y_true)\n",
    "    val_accuracy = np.mean(val_correct)\n",
    "    print(\"validation accuracy:\", val_accuracy)\n",
    "\n",
    "    precision = skmetrics.precision_score(y_true, y_pred)\n",
    "    print(\"Precision\", precision)\n",
    "\n",
    "    recall = skmetrics.recall_score(y_true, y_pred)\n",
    "    print(\"Recall\", recall)\n",
    "\n",
    "    f1_score = skmetrics.f1_score(y_true, y_pred)\n",
    "    print(\"f1_score\", f1_score)\n",
    "\n",
    "    print(\"confusion_matrix\")\n",
    "    print(skmetrics.confusion_matrix(y_true, y_pred))\n",
    "    \n",
    "print(\"--- %s seconds ---\" % (time.time() - start_time))"
   ]
  },
  {
   "cell_type": "markdown",
   "metadata": {},
   "source": [
    "# Analysis\n",
    "\n",
    "The code blocks from here on are used for analysis."
   ]
  },
  {
   "cell_type": "code",
   "execution_count": 7,
   "metadata": {},
   "outputs": [
    {
     "name": "stdout",
     "output_type": "stream",
     "text": [
      "True class is: 0\n",
      "\n",
      "New predicted class is: [1]\n",
      "\n",
      "Target class was: 1\n",
      "\n"
     ]
    }
   ],
   "source": [
    "# Generating one adversarial example for PCA projection\n",
    "\n",
    "test_idx = 1\n",
    "target_y = 1\n",
    "\n",
    "X_fooling = make_adversarial_attack(test_x[test_idx].reshape(-1, tensor_length), target_y, model)\n",
    "\n",
    "scores = model(X_fooling)\n",
    "new_class = np.argmax(scores.detach().numpy(), 1)\n",
    "\n",
    "print(\"True class is: {0}\\n\".format(np.argmax(test_y[test_idx])))\n",
    "print(\"New predicted class is: {0}\\n\".format(new_class))\n",
    "print(\"Target class was: {0}\\n\".format(target_y))"
   ]
  },
  {
   "cell_type": "code",
   "execution_count": 8,
   "metadata": {},
   "outputs": [],
   "source": [
    "# Finding means of respective classes\n",
    "\n",
    "# Extracting which indices are labeled as class 1\n",
    "b = np.nonzero(np.argmax(train_y, 1))\n",
    "\n",
    "# Creating a new array of all data-points belonging to class 1\n",
    "features_of_class_1 = train_x[b[0],:]\n",
    "\n",
    "# Creating a new array of all data-points belonging to class 0\n",
    "features_of_class_0 = np.delete(train_x, b[0], axis=0)\n",
    "\n",
    "# Find means of respective classes\n",
    "mean_class_1 = np.mean(features_of_class_1, axis = 0)\n",
    "mean_class_0 = np.mean(features_of_class_0, axis = 0)"
   ]
  },
  {
   "cell_type": "code",
   "execution_count": 9,
   "metadata": {},
   "outputs": [
    {
     "name": "stdout",
     "output_type": "stream",
     "text": [
      "(19450, 2)\n",
      "(29054, 2)\n",
      "(1, 2)\n"
     ]
    }
   ],
   "source": [
    "# Applying PCA\n",
    "\n",
    "centered_X = train_x - np.mean(train_x, axis=0)\n",
    "U, S, V = np.linalg.svd(centered_X, full_matrices=False)\n",
    "\n",
    "n_dimensions = 2\n",
    "W_2d = V.T[:, 0:n_dimensions]\n",
    "\n",
    "transformed_1 = (features_of_class_1 - np.mean(features_of_class_1, axis=0)) @ W_2d\n",
    "transformed_0 = (features_of_class_0 - np.mean(features_of_class_0, axis=0)) @ W_2d\n",
    "\n",
    "X_fooling_transformed = (X_fooling.numpy() - np.mean(X_fooling.numpy(), axis=0)) @ W_2d\n",
    "\n",
    "# Sanity check for dimensions\n",
    "print(transformed_1.shape)\n",
    "print(transformed_0.shape)\n",
    "\n",
    "print(X_fooling_transformed.shape)"
   ]
  },
  {
   "cell_type": "code",
   "execution_count": 10,
   "metadata": {},
   "outputs": [
    {
     "data": {
      "image/png": "[encoded data removed]",
      "text/plain": [
       "<Figure size 432x288 with 1 Axes>"
      ]
     },
     "metadata": {
      "needs_background": "light"
     },
     "output_type": "display_data"
    }
   ],
   "source": [
    "# Making the plots\n",
    "\n",
    "fig = plt.figure()\n",
    "ax = fig.add_subplot(111)\n",
    "\n",
    "ax.plot(transformed_1[:,[0]], transformed_1[:,[1]], 'b+', label='class 1')\n",
    "ax.plot(transformed_0[:,[0]], transformed_0[:,[1]], 'r+', label='class 0')\n",
    "\n",
    "ax.plot(X_fooling_transformed[:,[0]], X_fooling_transformed[:,[1]], 'go', label='adv ex')\n",
    "\n",
    "ax.legend(loc=0)\n",
    "\n",
    "ax.set_xlabel('PC 1', fontsize=14)\n",
    "ax.set_ylabel('PC 2', fontsize=14)\n",
    "ax.set_title('2D plot', fontsize=14)\n",
    "\n",
    "plt.show()"
   ]
  },
  {
   "cell_type": "code",
   "execution_count": 11,
   "metadata": {},
   "outputs": [],
   "source": [
    "# This code block generates adversarial examples for all test datapoints\n",
    "\n",
    "# This variable is a counter for how many successful adversarial examples were generated\n",
    "j = 0\n",
    "\n",
    "X_fooling_saved = []\n",
    "X_fooling_numpy = []\n",
    "magnitude_X_fooling = []\n",
    "\n",
    "for i in range(len(test_x)):\n",
    "    \n",
    "    target_y = 1 - np.argmax(test_y[i])    \n",
    "    \n",
    "    X_fooling = make_adversarial_attack(test_x[i].reshape(-1, tensor_length), target_y, model)\n",
    "    \n",
    "    X_fooling_saved.append(X_fooling)\n",
    "    X_fooling_numpy.append(np.array(X_fooling.numpy()))\n",
    "    magnitude_X_fooling.append(np.linalg.norm(X_fooling.numpy(), axis=1))\n",
    "    \n",
    "    scores = model(X_fooling)    \n",
    "    new_class = np.argmax(scores.detach().numpy(), 1)\n",
    "            \n",
    "    if new_class == target_y:\n",
    "        j += 1"
   ]
  },
  {
   "cell_type": "code",
   "execution_count": 12,
   "metadata": {},
   "outputs": [
    {
     "name": "stdout",
     "output_type": "stream",
     "text": [
      "Succesfully changed classes in 1000 test datapoints\n",
      "\n"
     ]
    }
   ],
   "source": [
    "# Checking success rate of attacks\n",
    "\n",
    "print(\"Succesfully changed classes in {0} test datapoints\\n\".format(j))"
   ]
  },
  {
   "cell_type": "code",
   "execution_count": 13,
   "metadata": {},
   "outputs": [
    {
     "name": "stdout",
     "output_type": "stream",
     "text": [
      "(48504, 53)\n",
      "(1000, 53)\n"
     ]
    }
   ],
   "source": [
    "# Printing number of training and test datapoints\n",
    "\n",
    "print(train_x.shape)\n",
    "print(test_x.shape)"
   ]
  },
  {
   "cell_type": "code",
   "execution_count": 14,
   "metadata": {},
   "outputs": [],
   "source": [
    "# Calculating magnitudes of true and adversarial datapoints\n",
    "\n",
    "magnitude_test_x = np.linalg.norm(test_x, axis=1)\n",
    "magnitude_X_fooling = np.array(magnitude_X_fooling)"
   ]
  },
  {
   "cell_type": "code",
   "execution_count": 15,
   "metadata": {},
   "outputs": [
    {
     "data": {
      "image/png": "[encoded data removed]",
      "text/plain": [
       "<Figure size 432x288 with 1 Axes>"
      ]
     },
     "metadata": {
      "needs_background": "light"
     },
     "output_type": "display_data"
    }
   ],
   "source": [
    "# Plotting histogram for true datapoints\n",
    "\n",
    "n_1, bins_1, patches_1 = plt.hist(magnitude_test_x, bins=50, color='g')\n",
    "\n",
    "plt.xlabel('Magnitude')\n",
    "plt.ylabel('Frequency')\n",
    "plt.title('Histogram of magnitude of true datapoints')\n",
    "\n",
    "plt.yticks(np.arange(0, 91, step=10))\n",
    "\n",
    "plt.show()"
   ]
  },
  {
   "cell_type": "code",
   "execution_count": 16,
   "metadata": {},
   "outputs": [
    {
     "data": {
      "image/png": "[encoded data removed]",
      "text/plain": [
       "<Figure size 432x288 with 1 Axes>"
      ]
     },
     "metadata": {
      "needs_background": "light"
     },
     "output_type": "display_data"
    }
   ],
   "source": [
    "# Plotting histogram for adversarial datapoints\n",
    "\n",
    "n_2, bins_2, patches_2 = plt.hist(magnitude_X_fooling, bins=50, color='r')\n",
    "\n",
    "plt.xlabel('Magnitude')\n",
    "plt.ylabel('Frequency')\n",
    "plt.title('Histogram of magnitude of adversarial datapoints')\n",
    "\n",
    "plt.yticks(np.arange(0, 91, step=10))\n",
    "\n",
    "plt.show()"
   ]
  },
  {
   "cell_type": "code",
   "execution_count": 17,
   "metadata": {},
   "outputs": [],
   "source": [
    "# Converting X_fooling_numpy into a numpy array of suitable dimensions\n",
    "X_fooling_numpy = np.squeeze(np.array(X_fooling_numpy))\n",
    "\n",
    "# Unit vector\n",
    "unit_vector = np.full((tensor_length, 1), 1/np.sqrt(tensor_length))\n",
    "\n",
    "# Dot product of all true datapoints with unit vector\n",
    "test_dot_prod = np.squeeze(np.dot(test_x, unit_vector))\n",
    "\n",
    "# Dot product of all adversarial datapoints with unit vector\n",
    "adv_dot_prod = np.squeeze(np.dot(X_fooling_numpy, unit_vector))\n",
    "\n",
    "# Magnitude of true datapoints\n",
    "magnitude_test_x = np.linalg.norm(test_x, axis=1)\n",
    "\n",
    "# Magnitude of adversarial datapoints\n",
    "magnitude_X_fooling = np.squeeze(np.array(magnitude_X_fooling))"
   ]
  },
  {
   "cell_type": "code",
   "execution_count": 18,
   "metadata": {},
   "outputs": [],
   "source": [
    "# Calculating angle with unit vector of true and adversarial datapoints\n",
    "\n",
    "# Angles of true datapoints with the chosen unit vector\n",
    "true_angles = np.degrees(np.arccos(test_dot_prod / magnitude_test_x))\n",
    "\n",
    "# Angles of adversarial datapoints with the chosen unit vector\n",
    "adv_angles = np.degrees(np.arccos(adv_dot_prod / magnitude_X_fooling))"
   ]
  },
  {
   "cell_type": "code",
   "execution_count": 19,
   "metadata": {},
   "outputs": [
    {
     "data": {
      "image/png": "[encoded data removed]",
      "text/plain": [
       "<Figure size 432x288 with 1 Axes>"
      ]
     },
     "metadata": {
      "needs_background": "light"
     },
     "output_type": "display_data"
    }
   ],
   "source": [
    "# Plotting histogram for true datapoints\n",
    "\n",
    "n_1, bins_1, patches_1 = plt.hist(true_angles, bins=50, color='g')\n",
    "\n",
    "plt.xlabel('Angle (in deg)')\n",
    "plt.ylabel('Frequency')\n",
    "plt.title('Histogram of angle with unit vector of true datapoints')\n",
    "\n",
    "plt.xticks(np.arange(0, 90, step=10))\n",
    "plt.yticks(np.arange(0, 71, step=10))\n",
    "\n",
    "plt.show()"
   ]
  },
  {
   "cell_type": "code",
   "execution_count": 20,
   "metadata": {},
   "outputs": [
    {
     "data": {
      "image/png": "[encoded data removed]",
      "text/plain": [
       "<Figure size 432x288 with 1 Axes>"
      ]
     },
     "metadata": {
      "needs_background": "light"
     },
     "output_type": "display_data"
    }
   ],
   "source": [
    "# Plotting histogram for adversarial datapoints\n",
    "\n",
    "n_2, bins_2, patches_2 = plt.hist(adv_angles, bins=50, color='r')\n",
    "\n",
    "plt.xlabel('Angle (in deg)')\n",
    "plt.ylabel('Frequency')\n",
    "plt.title('Histogram of angle with unit vector of adversarial datapoints')\n",
    "\n",
    "plt.xticks(np.arange(0, 90, step=10))\n",
    "plt.yticks(np.arange(0, 71, step=10))\n",
    "\n",
    "plt.show()"
   ]
  }
 ],
 "metadata": {
  "kernelspec": {
   "display_name": "Python 3",
   "language": "python",
   "name": "python3"
  },
  "language_info": {
   "codemirror_mode": {
    "name": "ipython",
    "version": 3
   },
   "file_extension": ".py",
   "mimetype": "text/x-python",
   "name": "python",
   "nbconvert_exporter": "python",
   "pygments_lexer": "ipython3",
   "version": "3.7.3"
  }
 },
 "nbformat": 4,
 "nbformat_minor": 2
}
